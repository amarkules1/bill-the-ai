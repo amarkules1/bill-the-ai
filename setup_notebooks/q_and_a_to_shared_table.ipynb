{
 "cells": [
  {
   "cell_type": "code",
   "execution_count": 7,
   "metadata": {},
   "outputs": [],
   "source": [
    "import pandas as pd\n",
    "import sqlalchemy\n",
    "import os\n",
    "from dotenv import load_dotenv, find_dotenv\n",
    "_ = load_dotenv(find_dotenv()) # read local .env file\n",
    "import uuid"
   ]
  },
  {
   "cell_type": "code",
   "execution_count": null,
   "metadata": {},
   "outputs": [],
   "source": []
  },
  {
   "cell_type": "code",
   "execution_count": 2,
   "metadata": {},
   "outputs": [],
   "source": [
    "conn = sqlalchemy.create_engine(os.getenv('BILL_DB_CONN_STRING')).connect()"
   ]
  },
  {
   "cell_type": "code",
   "execution_count": 3,
   "metadata": {},
   "outputs": [],
   "source": [
    "# first populate bill_gpt.bill_details_v2 with the 3 known bills\n",
    "bill_details_v1 = pd.read_sql('select * from bill_gpt.bill_details', conn)"
   ]
  },
  {
   "cell_type": "code",
   "execution_count": 5,
   "metadata": {},
   "outputs": [],
   "source": [
    "bill_details_v1.rename(columns={'bill_id': 'bill_alias'}, inplace=True)"
   ]
  },
  {
   "cell_type": "code",
   "execution_count": 8,
   "metadata": {},
   "outputs": [],
   "source": [
    "bill_details_v1['bill_id'] = bill_details_v1['bill_alias'].apply(lambda x: uuid.uuid4())"
   ]
  },
  {
   "cell_type": "code",
   "execution_count": 9,
   "metadata": {},
   "outputs": [
    {
     "data": {
      "text/html": [
       "<div>\n",
       "<style scoped>\n",
       "    .dataframe tbody tr th:only-of-type {\n",
       "        vertical-align: middle;\n",
       "    }\n",
       "\n",
       "    .dataframe tbody tr th {\n",
       "        vertical-align: top;\n",
       "    }\n",
       "\n",
       "    .dataframe thead th {\n",
       "        text-align: right;\n",
       "    }\n",
       "</style>\n",
       "<table border=\"1\" class=\"dataframe\">\n",
       "  <thead>\n",
       "    <tr style=\"text-align: right;\">\n",
       "      <th></th>\n",
       "      <th>bill_alias</th>\n",
       "      <th>bill_title</th>\n",
       "      <th>summary</th>\n",
       "      <th>wiki_link</th>\n",
       "      <th>full_text_link</th>\n",
       "      <th>bill_id</th>\n",
       "    </tr>\n",
       "  </thead>\n",
       "  <tbody>\n",
       "    <tr>\n",
       "      <th>0</th>\n",
       "      <td>fra</td>\n",
       "      <td>Fiscal Responsibility Act of 2023</td>\n",
       "      <td>The Fiscal Responsibility Act of 2023 was pass...</td>\n",
       "      <td>https://en.wikipedia.org/wiki/Fiscal_Responsib...</td>\n",
       "      <td>https://www.congress.gov/118/bills/hr3746/BILL...</td>\n",
       "      <td>449f4266-6333-480c-9b22-57b8cc88b053</td>\n",
       "    </tr>\n",
       "    <tr>\n",
       "      <th>1</th>\n",
       "      <td>ira</td>\n",
       "      <td>Fiscal Responsibility Act of 2023</td>\n",
       "      <td>The Inflation Reduction Act of 2022 was passed...</td>\n",
       "      <td>https://en.wikipedia.org/wiki/Inflation_Reduct...</td>\n",
       "      <td>https://www.congress.gov/117/bills/hr5376/BILL...</td>\n",
       "      <td>a70197aa-7169-4e1a-8e8a-ea34db99ed5f</td>\n",
       "    </tr>\n",
       "    <tr>\n",
       "      <th>2</th>\n",
       "      <td>chips</td>\n",
       "      <td>CHIPS and Science Act</td>\n",
       "      <td>The CHIPS and Science Act was passed in August...</td>\n",
       "      <td>https://en.wikipedia.org/wiki/CHIPS_and_Scienc...</td>\n",
       "      <td>https://www.congress.gov/117/bills/hr4346/BILL...</td>\n",
       "      <td>58a9aafb-1d53-4e43-9cfa-086fdc620aea</td>\n",
       "    </tr>\n",
       "  </tbody>\n",
       "</table>\n",
       "</div>"
      ],
      "text/plain": [
       "  bill_alias                         bill_title  \\\n",
       "0        fra  Fiscal Responsibility Act of 2023   \n",
       "1        ira  Fiscal Responsibility Act of 2023   \n",
       "2      chips              CHIPS and Science Act   \n",
       "\n",
       "                                             summary  \\\n",
       "0  The Fiscal Responsibility Act of 2023 was pass...   \n",
       "1  The Inflation Reduction Act of 2022 was passed...   \n",
       "2  The CHIPS and Science Act was passed in August...   \n",
       "\n",
       "                                           wiki_link  \\\n",
       "0  https://en.wikipedia.org/wiki/Fiscal_Responsib...   \n",
       "1  https://en.wikipedia.org/wiki/Inflation_Reduct...   \n",
       "2  https://en.wikipedia.org/wiki/CHIPS_and_Scienc...   \n",
       "\n",
       "                                      full_text_link  \\\n",
       "0  https://www.congress.gov/118/bills/hr3746/BILL...   \n",
       "1  https://www.congress.gov/117/bills/hr5376/BILL...   \n",
       "2  https://www.congress.gov/117/bills/hr4346/BILL...   \n",
       "\n",
       "                                bill_id  \n",
       "0  449f4266-6333-480c-9b22-57b8cc88b053  \n",
       "1  a70197aa-7169-4e1a-8e8a-ea34db99ed5f  \n",
       "2  58a9aafb-1d53-4e43-9cfa-086fdc620aea  "
      ]
     },
     "execution_count": 9,
     "metadata": {},
     "output_type": "execute_result"
    }
   ],
   "source": [
    "bill_details_v1"
   ]
  },
  {
   "cell_type": "code",
   "execution_count": 15,
   "metadata": {},
   "outputs": [],
   "source": [
    "conn.commit()"
   ]
  },
  {
   "cell_type": "code",
   "execution_count": 14,
   "metadata": {},
   "outputs": [],
   "source": [
    "for i, row in bill_details_v1.iterrows():\n",
    "    stmt = sqlalchemy.text(f\"insert into bill_gpt.bill_details_v2(bill_id, bill_title, bill_alias, summary, wiki_link, full_text_link) \"\n",
    "                 f\"values (:bill_id, :bill_title, :bill_alias, :summary, :wiki_link, :full_text_link)\")\n",
    "    stmt = stmt.bindparams(bill_id=row['bill_id'], bill_title=row['bill_title'], bill_alias=row['bill_alias'], summary=row['summary'], wiki_link=row['wiki_link'], full_text_link=row['full_text_link'])\n",
    "    conn.execute(stmt)"
   ]
  },
  {
   "cell_type": "code",
   "execution_count": 29,
   "metadata": {},
   "outputs": [],
   "source": [
    "conn.commit()"
   ]
  },
  {
   "cell_type": "code",
   "execution_count": 16,
   "metadata": {},
   "outputs": [],
   "source": [
    "chips_q_a = pd.read_sql('select * from bill_gpt.chips_questions_and_answers', conn)"
   ]
  },
  {
   "cell_type": "code",
   "execution_count": 25,
   "metadata": {},
   "outputs": [
    {
     "data": {
      "text/html": [
       "<div>\n",
       "<style scoped>\n",
       "    .dataframe tbody tr th:only-of-type {\n",
       "        vertical-align: middle;\n",
       "    }\n",
       "\n",
       "    .dataframe tbody tr th {\n",
       "        vertical-align: top;\n",
       "    }\n",
       "\n",
       "    .dataframe thead th {\n",
       "        text-align: right;\n",
       "    }\n",
       "</style>\n",
       "<table border=\"1\" class=\"dataframe\">\n",
       "  <thead>\n",
       "    <tr style=\"text-align: right;\">\n",
       "      <th></th>\n",
       "      <th>id</th>\n",
       "      <th>created_at</th>\n",
       "      <th>question</th>\n",
       "      <th>answer</th>\n",
       "      <th>bill_id</th>\n",
       "      <th>question_id</th>\n",
       "    </tr>\n",
       "  </thead>\n",
       "  <tbody>\n",
       "    <tr>\n",
       "      <th>0</th>\n",
       "      <td>2</td>\n",
       "      <td>2023-09-24 17:24:21.226831+00:00</td>\n",
       "      <td>What are the provisions related to semiconduct...</td>\n",
       "      <td>The provisions related to semiconductors in th...</td>\n",
       "      <td>58a9aafb-1d53-4e43-9cfa-086fdc620aea</td>\n",
       "      <td>e03f6bce-7362-4267-a1d9-e0768edee092</td>\n",
       "    </tr>\n",
       "    <tr>\n",
       "      <th>1</th>\n",
       "      <td>3</td>\n",
       "      <td>2023-09-24 17:24:41.122989+00:00</td>\n",
       "      <td>What programs and initiatives are included in ...</td>\n",
       "      <td>The bill includes several programs and initiat...</td>\n",
       "      <td>58a9aafb-1d53-4e43-9cfa-086fdc620aea</td>\n",
       "      <td>9285dd07-35f9-4d03-b63d-5dad4632b747</td>\n",
       "    </tr>\n",
       "  </tbody>\n",
       "</table>\n",
       "</div>"
      ],
      "text/plain": [
       "   id                       created_at  \\\n",
       "0   2 2023-09-24 17:24:21.226831+00:00   \n",
       "1   3 2023-09-24 17:24:41.122989+00:00   \n",
       "\n",
       "                                            question  \\\n",
       "0  What are the provisions related to semiconduct...   \n",
       "1  What programs and initiatives are included in ...   \n",
       "\n",
       "                                              answer  \\\n",
       "0  The provisions related to semiconductors in th...   \n",
       "1  The bill includes several programs and initiat...   \n",
       "\n",
       "                                bill_id                           question_id  \n",
       "0  58a9aafb-1d53-4e43-9cfa-086fdc620aea  e03f6bce-7362-4267-a1d9-e0768edee092  \n",
       "1  58a9aafb-1d53-4e43-9cfa-086fdc620aea  9285dd07-35f9-4d03-b63d-5dad4632b747  "
      ]
     },
     "execution_count": 25,
     "metadata": {},
     "output_type": "execute_result"
    }
   ],
   "source": [
    "chips_q_a"
   ]
  },
  {
   "cell_type": "code",
   "execution_count": 22,
   "metadata": {},
   "outputs": [],
   "source": [
    "chips_q_a['bill_id'] = bill_details_v1[bill_details_v1['bill_alias'] =='chips'].iloc[0]['bill_id']"
   ]
  },
  {
   "cell_type": "code",
   "execution_count": 24,
   "metadata": {},
   "outputs": [],
   "source": [
    "chips_q_a['question_id'] = chips_q_a['question'].apply(lambda x: uuid.uuid4())"
   ]
  },
  {
   "cell_type": "code",
   "execution_count": 30,
   "metadata": {},
   "outputs": [],
   "source": [
    "for i, row in chips_q_a.iterrows():\n",
    "    stmt = sqlalchemy.text(f\"insert into bill_gpt.questions_asked(question_id, bill_id, question, answer) \"\n",
    "                 f\"values (:question_id, :bill_id, :question, :answer)\")\n",
    "    stmt = stmt.bindparams(question_id=row['question_id'], bill_id=row['bill_id'], question=row['question'], answer=row['answer'])\n",
    "    conn.execute(stmt)\n",
    "conn.commit()"
   ]
  },
  {
   "cell_type": "code",
   "execution_count": 33,
   "metadata": {},
   "outputs": [],
   "source": [
    "fra_q_a = pd.read_sql('select * from bill_gpt.fra_questions_and_answers', conn)"
   ]
  },
  {
   "cell_type": "code",
   "execution_count": 34,
   "metadata": {},
   "outputs": [
    {
     "data": {
      "text/html": [
       "<div>\n",
       "<style scoped>\n",
       "    .dataframe tbody tr th:only-of-type {\n",
       "        vertical-align: middle;\n",
       "    }\n",
       "\n",
       "    .dataframe tbody tr th {\n",
       "        vertical-align: top;\n",
       "    }\n",
       "\n",
       "    .dataframe thead th {\n",
       "        text-align: right;\n",
       "    }\n",
       "</style>\n",
       "<table border=\"1\" class=\"dataframe\">\n",
       "  <thead>\n",
       "    <tr style=\"text-align: right;\">\n",
       "      <th></th>\n",
       "      <th>id</th>\n",
       "      <th>created_at</th>\n",
       "      <th>question</th>\n",
       "      <th>answer</th>\n",
       "    </tr>\n",
       "  </thead>\n",
       "  <tbody>\n",
       "    <tr>\n",
       "      <th>0</th>\n",
       "      <td>1</td>\n",
       "      <td>2023-09-24 15:55:46.927558+00:00</td>\n",
       "      <td>What is the purpose of the bills and legislati...</td>\n",
       "      <td>The purpose of the bills and legislative docum...</td>\n",
       "    </tr>\n",
       "    <tr>\n",
       "      <th>1</th>\n",
       "      <td>2</td>\n",
       "      <td>2023-09-24 15:56:06.159616+00:00</td>\n",
       "      <td>What is the purpose of the bill?</td>\n",
       "      <td>The purpose of the bill is to establish limita...</td>\n",
       "    </tr>\n",
       "    <tr>\n",
       "      <th>2</th>\n",
       "      <td>3</td>\n",
       "      <td>2023-09-24 15:56:50.135586+00:00</td>\n",
       "      <td>What are the specific provisions and amendment...</td>\n",
       "      <td>The specific provisions and amendments include...</td>\n",
       "    </tr>\n",
       "    <tr>\n",
       "      <th>3</th>\n",
       "      <td>4</td>\n",
       "      <td>2023-09-24 15:57:45.863575+00:00</td>\n",
       "      <td>How are environmental impact assessments condu...</td>\n",
       "      <td>Environmental impact assessments are conducted...</td>\n",
       "    </tr>\n",
       "  </tbody>\n",
       "</table>\n",
       "</div>"
      ],
      "text/plain": [
       "   id                       created_at  \\\n",
       "0   1 2023-09-24 15:55:46.927558+00:00   \n",
       "1   2 2023-09-24 15:56:06.159616+00:00   \n",
       "2   3 2023-09-24 15:56:50.135586+00:00   \n",
       "3   4 2023-09-24 15:57:45.863575+00:00   \n",
       "\n",
       "                                            question  \\\n",
       "0  What is the purpose of the bills and legislati...   \n",
       "1                   What is the purpose of the bill?   \n",
       "2  What are the specific provisions and amendment...   \n",
       "3  How are environmental impact assessments condu...   \n",
       "\n",
       "                                              answer  \n",
       "0  The purpose of the bills and legislative docum...  \n",
       "1  The purpose of the bill is to establish limita...  \n",
       "2  The specific provisions and amendments include...  \n",
       "3  Environmental impact assessments are conducted...  "
      ]
     },
     "execution_count": 34,
     "metadata": {},
     "output_type": "execute_result"
    }
   ],
   "source": [
    "fra_q_a"
   ]
  },
  {
   "cell_type": "code",
   "execution_count": 35,
   "metadata": {},
   "outputs": [],
   "source": [
    "fra_q_a['bill_id'] = bill_details_v1[bill_details_v1['bill_alias'] =='fra'].iloc[0]['bill_id']"
   ]
  },
  {
   "cell_type": "code",
   "execution_count": 36,
   "metadata": {},
   "outputs": [],
   "source": [
    "fra_q_a['question_id'] = fra_q_a['question'].apply(lambda x: uuid.uuid4())"
   ]
  },
  {
   "cell_type": "code",
   "execution_count": 37,
   "metadata": {},
   "outputs": [],
   "source": [
    "for i, row in fra_q_a.iterrows():\n",
    "    stmt = sqlalchemy.text(f\"insert into bill_gpt.questions_asked(question_id, bill_id, question, answer) \"\n",
    "                 f\"values (:question_id, :bill_id, :question, :answer)\")\n",
    "    stmt = stmt.bindparams(question_id=row['question_id'], bill_id=row['bill_id'], question=row['question'], answer=row['answer'])\n",
    "    conn.execute(stmt)\n",
    "conn.commit()"
   ]
  },
  {
   "cell_type": "code",
   "execution_count": 38,
   "metadata": {},
   "outputs": [],
   "source": [
    "ira_q_a = pd.read_sql('select * from bill_gpt.ira_questions_and_answers', conn)"
   ]
  },
  {
   "cell_type": "code",
   "execution_count": 39,
   "metadata": {},
   "outputs": [
    {
     "data": {
      "text/html": [
       "<div>\n",
       "<style scoped>\n",
       "    .dataframe tbody tr th:only-of-type {\n",
       "        vertical-align: middle;\n",
       "    }\n",
       "\n",
       "    .dataframe tbody tr th {\n",
       "        vertical-align: top;\n",
       "    }\n",
       "\n",
       "    .dataframe thead th {\n",
       "        text-align: right;\n",
       "    }\n",
       "</style>\n",
       "<table border=\"1\" class=\"dataframe\">\n",
       "  <thead>\n",
       "    <tr style=\"text-align: right;\">\n",
       "      <th></th>\n",
       "      <th>id</th>\n",
       "      <th>created_at</th>\n",
       "      <th>question</th>\n",
       "      <th>answer</th>\n",
       "    </tr>\n",
       "  </thead>\n",
       "  <tbody>\n",
       "    <tr>\n",
       "      <th>0</th>\n",
       "      <td>1</td>\n",
       "      <td>2023-08-17 02:32:12.741996+00:00</td>\n",
       "      <td>What does this law do to reduce energy costs?</td>\n",
       "      <td>This law establishes a program to award grants...</td>\n",
       "    </tr>\n",
       "    <tr>\n",
       "      <th>1</th>\n",
       "      <td>2</td>\n",
       "      <td>2023-08-17 02:32:37.460395+00:00</td>\n",
       "      <td>How does this law effect electric vehicles?</td>\n",
       "      <td>This law provides tax credits for the purchase...</td>\n",
       "    </tr>\n",
       "    <tr>\n",
       "      <th>2</th>\n",
       "      <td>3</td>\n",
       "      <td>2023-08-17 02:34:02.990931+00:00</td>\n",
       "      <td>What is the majority of the money in the bill ...</td>\n",
       "      <td>The majority of the money in the bill is going...</td>\n",
       "    </tr>\n",
       "    <tr>\n",
       "      <th>3</th>\n",
       "      <td>4</td>\n",
       "      <td>2023-08-17 02:44:05.208138+00:00</td>\n",
       "      <td>How does this bill effect corporate stock repu...</td>\n",
       "      <td>This bill imposes a tax on corporate stock rep...</td>\n",
       "    </tr>\n",
       "    <tr>\n",
       "      <th>4</th>\n",
       "      <td>5</td>\n",
       "      <td>2023-08-20 17:41:00.143647+00:00</td>\n",
       "      <td>How does this bill effect stock repurchases?</td>\n",
       "      <td>This bill imposes a 1 percent tax on the fair ...</td>\n",
       "    </tr>\n",
       "    <tr>\n",
       "      <th>5</th>\n",
       "      <td>6</td>\n",
       "      <td>2023-08-20 21:46:25.128584+00:00</td>\n",
       "      <td>What does this law do to improve the electrica...</td>\n",
       "      <td>This law includes provisions to increase the e...</td>\n",
       "    </tr>\n",
       "    <tr>\n",
       "      <th>6</th>\n",
       "      <td>7</td>\n",
       "      <td>2023-08-20 22:02:35.450288+00:00</td>\n",
       "      <td>How long will it take for the bill to be fully...</td>\n",
       "      <td>The bill will be fully implemented for the yea...</td>\n",
       "    </tr>\n",
       "    <tr>\n",
       "      <th>7</th>\n",
       "      <td>8</td>\n",
       "      <td>2023-08-21 17:15:43.771867+00:00</td>\n",
       "      <td>Does this bill do anything to protect the envi...</td>\n",
       "      <td>Yes, this bill includes provisions that alloca...</td>\n",
       "    </tr>\n",
       "    <tr>\n",
       "      <th>8</th>\n",
       "      <td>9</td>\n",
       "      <td>2023-08-21 18:44:23.271872+00:00</td>\n",
       "      <td>how will this impact low income families</td>\n",
       "      <td>This legislation will have an impact on low-in...</td>\n",
       "    </tr>\n",
       "    <tr>\n",
       "      <th>9</th>\n",
       "      <td>10</td>\n",
       "      <td>2023-08-22 10:14:10.996943+00:00</td>\n",
       "      <td>What does this law do to prevent climate change?</td>\n",
       "      <td>This law provides funding and incentives for t...</td>\n",
       "    </tr>\n",
       "    <tr>\n",
       "      <th>10</th>\n",
       "      <td>11</td>\n",
       "      <td>2023-09-07 17:05:30.858402+00:00</td>\n",
       "      <td>How will this law save me money?</td>\n",
       "      <td>This law aims to save you money by establishin...</td>\n",
       "    </tr>\n",
       "    <tr>\n",
       "      <th>11</th>\n",
       "      <td>12</td>\n",
       "      <td>2023-09-15 19:03:53.230869+00:00</td>\n",
       "      <td>Are there any pork barrel projects in this bill?</td>\n",
       "      <td>There is no information provided in the given ...</td>\n",
       "    </tr>\n",
       "    <tr>\n",
       "      <th>12</th>\n",
       "      <td>13</td>\n",
       "      <td>2023-09-15 19:06:18.211093+00:00</td>\n",
       "      <td>How much money does the bill propose spending?</td>\n",
       "      <td>The bill proposes spending a total of $94,501,...</td>\n",
       "    </tr>\n",
       "    <tr>\n",
       "      <th>13</th>\n",
       "      <td>14</td>\n",
       "      <td>2023-09-15 19:07:08.782142+00:00</td>\n",
       "      <td>Are there any unusual proposals in the bill?</td>\n",
       "      <td>Yes, there are some unusual proposals in the b...</td>\n",
       "    </tr>\n",
       "    <tr>\n",
       "      <th>14</th>\n",
       "      <td>15</td>\n",
       "      <td>2023-09-17 16:13:15.248198+00:00</td>\n",
       "      <td>H.R.4605 Healthy Mom and Babies Act: can you s...</td>\n",
       "      <td>I'm sorry, but I couldn't find any information...</td>\n",
       "    </tr>\n",
       "    <tr>\n",
       "      <th>15</th>\n",
       "      <td>16</td>\n",
       "      <td>2023-09-22 23:56:10.354547+00:00</td>\n",
       "      <td>How does this law effect the everyday lives of...</td>\n",
       "      <td>This law may have an impact on the everyday li...</td>\n",
       "    </tr>\n",
       "    <tr>\n",
       "      <th>16</th>\n",
       "      <td>17</td>\n",
       "      <td>2023-12-23 11:42:11.083350+00:00</td>\n",
       "      <td>What does this law do?</td>\n",
       "      <td>This law includes provisions related to the re...</td>\n",
       "    </tr>\n",
       "  </tbody>\n",
       "</table>\n",
       "</div>"
      ],
      "text/plain": [
       "    id                       created_at  \\\n",
       "0    1 2023-08-17 02:32:12.741996+00:00   \n",
       "1    2 2023-08-17 02:32:37.460395+00:00   \n",
       "2    3 2023-08-17 02:34:02.990931+00:00   \n",
       "3    4 2023-08-17 02:44:05.208138+00:00   \n",
       "4    5 2023-08-20 17:41:00.143647+00:00   \n",
       "5    6 2023-08-20 21:46:25.128584+00:00   \n",
       "6    7 2023-08-20 22:02:35.450288+00:00   \n",
       "7    8 2023-08-21 17:15:43.771867+00:00   \n",
       "8    9 2023-08-21 18:44:23.271872+00:00   \n",
       "9   10 2023-08-22 10:14:10.996943+00:00   \n",
       "10  11 2023-09-07 17:05:30.858402+00:00   \n",
       "11  12 2023-09-15 19:03:53.230869+00:00   \n",
       "12  13 2023-09-15 19:06:18.211093+00:00   \n",
       "13  14 2023-09-15 19:07:08.782142+00:00   \n",
       "14  15 2023-09-17 16:13:15.248198+00:00   \n",
       "15  16 2023-09-22 23:56:10.354547+00:00   \n",
       "16  17 2023-12-23 11:42:11.083350+00:00   \n",
       "\n",
       "                                             question  \\\n",
       "0       What does this law do to reduce energy costs?   \n",
       "1         How does this law effect electric vehicles?   \n",
       "2   What is the majority of the money in the bill ...   \n",
       "3   How does this bill effect corporate stock repu...   \n",
       "4        How does this bill effect stock repurchases?   \n",
       "5   What does this law do to improve the electrica...   \n",
       "6   How long will it take for the bill to be fully...   \n",
       "7   Does this bill do anything to protect the envi...   \n",
       "8            how will this impact low income families   \n",
       "9    What does this law do to prevent climate change?   \n",
       "10                   How will this law save me money?   \n",
       "11   Are there any pork barrel projects in this bill?   \n",
       "12     How much money does the bill propose spending?   \n",
       "13       Are there any unusual proposals in the bill?   \n",
       "14  H.R.4605 Healthy Mom and Babies Act: can you s...   \n",
       "15  How does this law effect the everyday lives of...   \n",
       "16                             What does this law do?   \n",
       "\n",
       "                                               answer  \n",
       "0   This law establishes a program to award grants...  \n",
       "1   This law provides tax credits for the purchase...  \n",
       "2   The majority of the money in the bill is going...  \n",
       "3   This bill imposes a tax on corporate stock rep...  \n",
       "4   This bill imposes a 1 percent tax on the fair ...  \n",
       "5   This law includes provisions to increase the e...  \n",
       "6   The bill will be fully implemented for the yea...  \n",
       "7   Yes, this bill includes provisions that alloca...  \n",
       "8   This legislation will have an impact on low-in...  \n",
       "9   This law provides funding and incentives for t...  \n",
       "10  This law aims to save you money by establishin...  \n",
       "11  There is no information provided in the given ...  \n",
       "12  The bill proposes spending a total of $94,501,...  \n",
       "13  Yes, there are some unusual proposals in the b...  \n",
       "14  I'm sorry, but I couldn't find any information...  \n",
       "15  This law may have an impact on the everyday li...  \n",
       "16  This law includes provisions related to the re...  "
      ]
     },
     "execution_count": 39,
     "metadata": {},
     "output_type": "execute_result"
    }
   ],
   "source": [
    "ira_q_a"
   ]
  },
  {
   "cell_type": "code",
   "execution_count": 40,
   "metadata": {},
   "outputs": [],
   "source": [
    "ira_q_a['bill_id'] = bill_details_v1[bill_details_v1['bill_alias'] =='ira'].iloc[0]['bill_id']"
   ]
  },
  {
   "cell_type": "code",
   "execution_count": 41,
   "metadata": {},
   "outputs": [],
   "source": [
    "ira_q_a['question_id'] = ira_q_a['question'].apply(lambda x: uuid.uuid4())"
   ]
  },
  {
   "cell_type": "code",
   "execution_count": null,
   "metadata": {},
   "outputs": [],
   "source": [
    "for i, row in ira_q_a.iterrows():\n",
    "    stmt = sqlalchemy.text(f\"insert into bill_gpt.questions_asked(question_id, bill_id, question, answer) \"\n",
    "                 f\"values (:question_id, :bill_id, :question, :answer)\")\n",
    "    stmt = stmt.bindparams(question_id=row['question_id'], bill_id=row['bill_id'], question=row['question'], answer=row['answer'])\n",
    "    conn.execute(stmt)\n",
    "conn.commit()"
   ]
  }
 ],
 "metadata": {
  "kernelspec": {
   "display_name": ".venv",
   "language": "python",
   "name": "python3"
  },
  "language_info": {
   "codemirror_mode": {
    "name": "ipython",
    "version": 3
   },
   "file_extension": ".py",
   "mimetype": "text/x-python",
   "name": "python",
   "nbconvert_exporter": "python",
   "pygments_lexer": "ipython3",
   "version": "3.10.6"
  },
  "orig_nbformat": 4
 },
 "nbformat": 4,
 "nbformat_minor": 2
}
