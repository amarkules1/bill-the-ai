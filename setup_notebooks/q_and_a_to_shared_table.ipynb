{
 "cells": [
  {
   "cell_type": "code",
   "execution_count": 7,
   "metadata": {},
   "outputs": [],
   "source": [
    "import pandas as pd\n",
    "import sqlalchemy\n",
    "import os\n",
    "from dotenv import load_dotenv, find_dotenv\n",
    "_ = load_dotenv(find_dotenv()) # read local .env file\n",
    "import uuid"
   ]
  },
  {
   "cell_type": "code",
   "execution_count": null,
   "metadata": {},
   "outputs": [],
   "source": []
  },
  {
   "cell_type": "code",
   "execution_count": 2,
   "metadata": {},
   "outputs": [],
   "source": [
    "conn = sqlalchemy.create_engine(os.getenv('BILL_DB_CONN_STRING')).connect()"
   ]
  },
  {
   "cell_type": "code",
   "execution_count": 3,
   "metadata": {},
   "outputs": [],
   "source": [
    "# first populate bill_gpt.bill_details_v2 with the 3 known bills\n",
    "bill_details_v1 = pd.read_sql('select * from bill_gpt.bill_details', conn)"
   ]
  },
  {
   "cell_type": "code",
   "execution_count": 5,
   "metadata": {},
   "outputs": [],
   "source": [
    "bill_details_v1.rename(columns={'bill_id': 'bill_alias'}, inplace=True)"
   ]
  },
  {
   "cell_type": "code",
   "execution_count": 8,
   "metadata": {},
   "outputs": [],
   "source": [
    "bill_details_v1['bill_id'] = bill_details_v1['bill_alias'].apply(lambda x: uuid.uuid4())"
   ]
  },
  {
   "cell_type": "code",
   "execution_count": 9,
   "metadata": {},
   "outputs": [
    {
     "data": {
      "text/html": [
       "<div>\n",
       "<style scoped>\n",
       "    .dataframe tbody tr th:only-of-type {\n",
       "        vertical-align: middle;\n",
       "    }\n",
       "\n",
       "    .dataframe tbody tr th {\n",
       "        vertical-align: top;\n",
       "    }\n",
       "\n",
       "    .dataframe thead th {\n",
       "        text-align: right;\n",
       "    }\n",
       "</style>\n",
       "<table border=\"1\" class=\"dataframe\">\n",
       "  <thead>\n",
       "    <tr style=\"text-align: right;\">\n",
       "      <th></th>\n",
       "      <th>bill_alias</th>\n",
       "      <th>bill_title</th>\n",
       "      <th>summary</th>\n",
       "      <th>wiki_link</th>\n",
       "      <th>full_text_link</th>\n",
       "      <th>bill_id</th>\n",
       "    </tr>\n",
       "  </thead>\n",
       "  <tbody>\n",
       "    <tr>\n",
       "      <th>0</th>\n",
       "      <td>fra</td>\n",
       "      <td>Fiscal Responsibility Act of 2023</td>\n",
       "      <td>The Fiscal Responsibility Act of 2023 was pass...</td>\n",
       "      <td>https://en.wikipedia.org/wiki/Fiscal_Responsib...</td>\n",
       "      <td>https://www.congress.gov/118/bills/hr3746/BILL...</td>\n",
       "      <td>449f4266-6333-480c-9b22-57b8cc88b053</td>\n",
       "    </tr>\n",
       "    <tr>\n",
       "      <th>1</th>\n",
       "      <td>ira</td>\n",
       "      <td>Fiscal Responsibility Act of 2023</td>\n",
       "      <td>The Inflation Reduction Act of 2022 was passed...</td>\n",
       "      <td>https://en.wikipedia.org/wiki/Inflation_Reduct...</td>\n",
       "      <td>https://www.congress.gov/117/bills/hr5376/BILL...</td>\n",
       "      <td>a70197aa-7169-4e1a-8e8a-ea34db99ed5f</td>\n",
       "    </tr>\n",
       "    <tr>\n",
       "      <th>2</th>\n",
       "      <td>chips</td>\n",
       "      <td>CHIPS and Science Act</td>\n",
       "      <td>The CHIPS and Science Act was passed in August...</td>\n",
       "      <td>https://en.wikipedia.org/wiki/CHIPS_and_Scienc...</td>\n",
       "      <td>https://www.congress.gov/117/bills/hr4346/BILL...</td>\n",
       "      <td>58a9aafb-1d53-4e43-9cfa-086fdc620aea</td>\n",
       "    </tr>\n",
       "  </tbody>\n",
       "</table>\n",
       "</div>"
      ],
      "text/plain": [
       "  bill_alias                         bill_title  \\\n",
       "0        fra  Fiscal Responsibility Act of 2023   \n",
       "1        ira  Fiscal Responsibility Act of 2023   \n",
       "2      chips              CHIPS and Science Act   \n",
       "\n",
       "                                             summary  \\\n",
       "0  The Fiscal Responsibility Act of 2023 was pass...   \n",
       "1  The Inflation Reduction Act of 2022 was passed...   \n",
       "2  The CHIPS and Science Act was passed in August...   \n",
       "\n",
       "                                           wiki_link  \\\n",
       "0  https://en.wikipedia.org/wiki/Fiscal_Responsib...   \n",
       "1  https://en.wikipedia.org/wiki/Inflation_Reduct...   \n",
       "2  https://en.wikipedia.org/wiki/CHIPS_and_Scienc...   \n",
       "\n",
       "                                      full_text_link  \\\n",
       "0  https://www.congress.gov/118/bills/hr3746/BILL...   \n",
       "1  https://www.congress.gov/117/bills/hr5376/BILL...   \n",
       "2  https://www.congress.gov/117/bills/hr4346/BILL...   \n",
       "\n",
       "                                bill_id  \n",
       "0  449f4266-6333-480c-9b22-57b8cc88b053  \n",
       "1  a70197aa-7169-4e1a-8e8a-ea34db99ed5f  \n",
       "2  58a9aafb-1d53-4e43-9cfa-086fdc620aea  "
      ]
     },
     "execution_count": 9,
     "metadata": {},
     "output_type": "execute_result"
    }
   ],
   "source": [
    "bill_details_v1"
   ]
  },
  {
   "cell_type": "code",
   "execution_count": 15,
   "metadata": {},
   "outputs": [],
   "source": [
    "conn.commit()"
   ]
  },
  {
   "cell_type": "code",
   "execution_count": 14,
   "metadata": {},
   "outputs": [],
   "source": [
    "for i, row in bill_details_v1.iterrows():\n",
    "    stmt = sqlalchemy.text(f\"insert into bill_gpt.bill_details_v2(bill_id, bill_title, bill_alias, summary, wiki_link, full_text_link) \"\n",
    "                 f\"values (:bill_id, :bill_title, :bill_alias, :summary, :wiki_link, :full_text_link)\")\n",
    "    stmt = stmt.bindparams(bill_id=row['bill_id'], bill_title=row['bill_title'], bill_alias=row['bill_alias'], summary=row['summary'], wiki_link=row['wiki_link'], full_text_link=row['full_text_link'])\n",
    "    conn.execute(stmt)"
   ]
  },
  {
   "cell_type": "code",
   "execution_count": 29,
   "metadata": {},
   "outputs": [],
   "source": [
    "conn.commit()"
   ]
  },
  {
   "cell_type": "code",
   "execution_count": 16,
   "metadata": {},
   "outputs": [],
   "source": [
    "chips_q_a = pd.read_sql('select * from bill_gpt.chips_questions_and_answers', conn)"
   ]
  },
  {
   "cell_type": "code",
   "execution_count": 25,
   "metadata": {},
   "outputs": [
    {
     "data": {
      "text/html": [
       "<div>\n",
       "<style scoped>\n",
       "    .dataframe tbody tr th:only-of-type {\n",
       "        vertical-align: middle;\n",
       "    }\n",
       "\n",
       "    .dataframe tbody tr th {\n",
       "        vertical-align: top;\n",
       "    }\n",
       "\n",
       "    .dataframe thead th {\n",
       "        text-align: right;\n",
       "    }\n",
       "</style>\n",
       "<table border=\"1\" class=\"dataframe\">\n",
       "  <thead>\n",
       "    <tr style=\"text-align: right;\">\n",
       "      <th></th>\n",
       "      <th>id</th>\n",
       "      <th>created_at</th>\n",
       "      <th>question</th>\n",
       "      <th>answer</th>\n",
       "      <th>bill_id</th>\n",
       "      <th>question_id</th>\n",
       "    </tr>\n",
       "  </thead>\n",
       "  <tbody>\n",
       "    <tr>\n",
       "      <th>0</th>\n",
       "      <td>2</td>\n",
       "      <td>2023-09-24 17:24:21.226831+00:00</td>\n",
       "      <td>What are the provisions related to semiconduct...</td>\n",
       "      <td>The provisions related to semiconductors in th...</td>\n",
       "      <td>58a9aafb-1d53-4e43-9cfa-086fdc620aea</td>\n",
       "      <td>e03f6bce-7362-4267-a1d9-e0768edee092</td>\n",
       "    </tr>\n",
       "    <tr>\n",
       "      <th>1</th>\n",
       "      <td>3</td>\n",
       "      <td>2023-09-24 17:24:41.122989+00:00</td>\n",
       "      <td>What programs and initiatives are included in ...</td>\n",
       "      <td>The bill includes several programs and initiat...</td>\n",
       "      <td>58a9aafb-1d53-4e43-9cfa-086fdc620aea</td>\n",
       "      <td>9285dd07-35f9-4d03-b63d-5dad4632b747</td>\n",
       "    </tr>\n",
       "  </tbody>\n",
       "</table>\n",
       "</div>"
      ],
      "text/plain": [
       "   id                       created_at  \\\n",
       "0   2 2023-09-24 17:24:21.226831+00:00   \n",
       "1   3 2023-09-24 17:24:41.122989+00:00   \n",
       "\n",
       "                                            question  \\\n",
       "0  What are the provisions related to semiconduct...   \n",
       "1  What programs and initiatives are included in ...   \n",
       "\n",
       "                                              answer  \\\n",
       "0  The provisions related to semiconductors in th...   \n",
       "1  The bill includes several programs and initiat...   \n",
       "\n",
       "                                bill_id                           question_id  \n",
       "0  58a9aafb-1d53-4e43-9cfa-086fdc620aea  e03f6bce-7362-4267-a1d9-e0768edee092  \n",
       "1  58a9aafb-1d53-4e43-9cfa-086fdc620aea  9285dd07-35f9-4d03-b63d-5dad4632b747  "
      ]
     },
     "execution_count": 25,
     "metadata": {},
     "output_type": "execute_result"
    }
   ],
   "source": [
    "chips_q_a"
   ]
  },
  {
   "cell_type": "code",
   "execution_count": 22,
   "metadata": {},
   "outputs": [],
   "source": [
    "chips_q_a['bill_id'] = bill_details_v1[bill_details_v1['bill_alias'] =='chips'].iloc[0]['bill_id']"
   ]
  },
  {
   "cell_type": "code",
   "execution_count": 24,
   "metadata": {},
   "outputs": [],
   "source": [
    "chips_q_a['question_id'] = chips_q_a['question'].apply(lambda x: uuid.uuid4())"
   ]
  },
  {
   "cell_type": "code",
   "execution_count": 30,
   "metadata": {},
   "outputs": [],
   "source": [
    "for i, row in chips_q_a.iterrows():\n",
    "    stmt = sqlalchemy.text(f\"insert into bill_gpt.questions_asked(question_id, bill_id, question, answer) \"\n",
    "                 f\"values (:question_id, :bill_id, :question, :answer)\")\n",
    "    stmt = stmt.bindparams(question_id=row['question_id'], bill_id=row['bill_id'], question=row['question'], answer=row['answer'])\n",
    "    conn.execute(stmt)\n",
    "conn.commit()"
   ]
  },
  {
   "cell_type": "code",
   "execution_count": 33,
   "metadata": {},
   "outputs": [],
   "source": [
    "fra_q_a = pd.read_sql('select * from bill_gpt.fra_questions_and_answers', conn)"
   ]
  },
  {
   "cell_type": "code",
   "execution_count": 34,
   "metadata": {},
   "outputs": [
    {
     "data": {
      "text/html": [
       "<div>\n",
       "<style scoped>\n",
       "    .dataframe tbody tr th:only-of-type {\n",
       "        vertical-align: middle;\n",
       "    }\n",
       "\n",
       "    .dataframe tbody tr th {\n",
       "        vertical-align: top;\n",
       "    }\n",
       "\n",
       "    .dataframe thead th {\n",
       "        text-align: right;\n",
       "    }\n",
       "</style>\n",
       "<table border=\"1\" class=\"dataframe\">\n",
       "  <thead>\n",
       "    <tr style=\"text-align: right;\">\n",
       "      <th></th>\n",
       "      <th>id</th>\n",
       "      <th>created_at</th>\n",
       "      <th>question</th>\n",
       "      <th>answer</th>\n",
       "    </tr>\n",
       "  </thead>\n",
       "  <tbody>\n",
       "    <tr>\n",
       "      <th>0</th>\n",
       "      <td>1</td>\n",
       "      <td>2023-09-24 15:55:46.927558+00:00</td>\n",
       "      <td>What is the purpose of the bills and legislati...</td>\n",
       "      <td>The purpose of the bills and legislative docum...</td>\n",
       "    </tr>\n",
       "    <tr>\n",
       "      <th>1</th>\n",
       "      <td>2</td>\n",
       "      <td>2023-09-24 15:56:06.159616+00:00</td>\n",
       "      <td>What is the purpose of the bill?</td>\n",
       "      <td>The purpose of the bill is to establish limita...</td>\n",
       "    </tr>\n",
       "    <tr>\n",
       "      <th>2</th>\n",
       "      <td>3</td>\n",
       "      <td>2023-09-24 15:56:50.135586+00:00</td>\n",
       "      <td>What are the specific provisions and amendment...</td>\n",
       "      <td>The specific provisions and amendments include...</td>\n",
       "    </tr>\n",
       "    <tr>\n",
       "      <th>3</th>\n",
       "      <td>4</td>\n",
       "      <td>2023-09-24 15:57:45.863575+00:00</td>\n",
       "      <td>How are environmental impact assessments condu...</td>\n",
       "      <td>Environmental impact assessments are conducted...</td>\n",
       "    </tr>\n",
       "  </tbody>\n",
       "</table>\n",
       "</div>"
      ],
      "text/plain": [
       "   id                       created_at  \\\n",
       "0   1 2023-09-24 15:55:46.927558+00:00   \n",
       "1   2 2023-09-24 15:56:06.159616+00:00   \n",
       "2   3 2023-09-24 15:56:50.135586+00:00   \n",
       "3   4 2023-09-24 15:57:45.863575+00:00   \n",
       "\n",
       "                                            question  \\\n",
       "0  What is the purpose of the bills and legislati...   \n",
       "1                   What is the purpose of the bill?   \n",
       "2  What are the specific provisions and amendment...   \n",
       "3  How are environmental impact assessments condu...   \n",
       "\n",
       "                                              answer  \n",
       "0  The purpose of the bills and legislative docum...  \n",
       "1  The purpose of the bill is to establish limita...  \n",
       "2  The specific provisions and amendments include...  \n",
       "3  Environmental impact assessments are conducted...  "
      ]
     },
     "execution_count": 34,
     "metadata": {},
     "output_type": "execute_result"
    }
   ],
   "source": [
    "fra_q_a"
   ]
  },
  {
   "cell_type": "code",
   "execution_count": 35,
   "metadata": {},
   "outputs": [],
   "source": [
    "fra_q_a['bill_id'] = bill_details_v1[bill_details_v1['bill_alias'] =='fra'].iloc[0]['bill_id']"
   ]
  },
  {
   "cell_type": "code",
   "execution_count": 36,
   "metadata": {},
   "outputs": [],
   "source": [
    "fra_q_a['question_id'] = fra_q_a['question'].apply(lambda x: uuid.uuid4())"
   ]
  },
  {
   "cell_type": "code",
   "execution_count": 37,
   "metadata": {},
   "outputs": [],
   "source": [
    "for i, row in fra_q_a.iterrows():\n",
    "    stmt = sqlalchemy.text(f\"insert into bill_gpt.questions_asked(question_id, bill_id, question, answer) \"\n",
    "                 f\"values (:question_id, :bill_id, :question, :answer)\")\n",
    "    stmt = stmt.bindparams(question_id=row['question_id'], bill_id=row['bill_id'], question=row['question'], answer=row['answer'])\n",
    "    conn.execute(stmt)\n",
    "conn.commit()"
   ]
  }
 ],
 "metadata": {
  "kernelspec": {
   "display_name": ".venv",
   "language": "python",
   "name": "python3"
  },
  "language_info": {
   "codemirror_mode": {
    "name": "ipython",
    "version": 3
   },
   "file_extension": ".py",
   "mimetype": "text/x-python",
   "name": "python",
   "nbconvert_exporter": "python",
   "pygments_lexer": "ipython3",
   "version": "3.10.6"
  },
  "orig_nbformat": 4
 },
 "nbformat": 4,
 "nbformat_minor": 2
}
